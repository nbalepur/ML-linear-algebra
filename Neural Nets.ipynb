{
 "cells": [
  {
   "cell_type": "code",
   "execution_count": 1,
   "metadata": {
    "collapsed": false
   },
   "outputs": [
   ],
   "source": [
    "import numpy as np\n",
    "import matplotlib.pyplot as plt"
   ]
  },
  {
   "cell_type": "markdown",
   "metadata": {
    "collapsed": false
   },
   "source": [
    "###### Here we define the functions we need to create a neural network\n",
    "###### Our sigmoid function \\(\\sigma \\) has the derivative of \\(\\sigma \\) * (1 - \\(\\sigma \\))"
   ]
  },
  {
   "cell_type": "code",
   "execution_count": 2,
   "metadata": {
    "collapsed": false
   },
   "outputs": [
   ],
   "source": [
    "# sigmoid function for converting values to bernoulli\n",
    "def sigmoid(pred_val):\n",
    "    return 1 / (1 + np.exp(-pred_val))"
   ]
  },
  {
   "cell_type": "code",
   "execution_count": 3,
   "metadata": {
    "collapsed": false
   },
   "outputs": [
   ],
   "source": [
    "# derivative of sigmoid\n",
    "def sigmoid_derivative(pred_val):\n",
    "    return np.multiply(sigmoid(pred_val), (1 - sigmoid(pred_val)))"
   ]
  },
  {
   "cell_type": "markdown",
   "metadata": {
    "collapsed": false
   },
   "source": [
    "###### Forward propogation converts the input to the output, creating a \"black box\" of the hidden node layers"
   ]
  },
  {
   "cell_type": "code",
   "execution_count": 4,
   "metadata": {
    "collapsed": false
   },
   "outputs": [
   ],
   "source": [
    "# forward propogates, storing the value of each node layer in a returned list\n",
    "def forward_prop(inputs, thetas, sample_size):\n",
    "    outputs = []\n",
    "    for theta in thetas:\n",
    "        # adds ones to the beginning of each layer to account for the weight/intercept theta value\n",
    "        inputs = np.hstack((np.ones((sample_size, 1)), np.asarray(inputs)))\n",
    "        # the dot product will get the values of the next layer, we store this value to be used in backpropogation\n",
    "        inputs = inputs @ theta.T\n",
    "        outputs.append(inputs)\n",
    "        # the sigmoid function is called in every layer\n",
    "        inputs = sigmoid(inputs)\n",
    "    return outputs"
   ]
  },
  {
   "cell_type": "markdown",
   "metadata": {
    "collapsed": false
   },
   "source": [
    "###### Back propogation gets the gradient for each set of weights, since multiple thetas are used\n",
    "###### This is basically an application of the \"chain rule\" in Calculus\n",
    "\n",
    "###### Additionally, when the number of classifications is greater than 2, a matrix must be generated with 0's and 1's, just like one vs all logistic regression"
   ]
  },
  {
   "cell_type": "code",
   "execution_count": 5,
   "metadata": {
    "collapsed": false
   },
   "outputs": [
   ],
   "source": [
    "def back_prop(outputs, actual_val, inputs, thetas, m, num_classifications):\n",
    "    # checks for the number of classifications to adjust the y matrix appropriately\n",
    "    if (num_classifications != 2):\n",
    "        actual_val = (np.eye(num_classifications))[actual_val]\n",
    "    # calculates the differences\n",
    "    diff3 = sigmoid(outputs[-1]) - actual_val\n",
    "    diff2 = np.multiply(diff3 @ thetas[1][:, 1:], sigmoid_derivative(outputs[0]))\n",
    "    # converts to partial derivatives / gradients\n",
    "    Delta1 = diff2.T @ np.hstack((np.ones((m, 1)), np.asarray(inputs)))\n",
    "    Delta2 = diff3.T @ np.hstack((np.ones((m, 1)), np.asarray(sigmoid(outputs[0]))))\n",
    "    # divides by the appropriate constant\n",
    "    return [Delta1 / m, Delta2 / m]"
   ]
  },
  {
   "cell_type": "markdown",
   "metadata": {
    "collapsed": false
   },
   "source": [
    "###### Below is a representation of the neural network architecture we will be using for this first example"
   ]
  },
  {
   "cell_type": "markdown",
   "metadata": {
    "collapsed": false
   },
   "source": [
    "<h3 align=\"center\">\n",
    "    <u>Neural Net Architecture with xnor</u> (or == operator)\n",
    "</h3>\n",
    "<br>\n",
    "<img src=\"xnor_NN.png\">"
   ]
  },
  {
   "cell_type": "code",
   "execution_count": 6,
   "metadata": {
    "collapsed": false
   },
   "outputs": [
   ],
   "source": [
    "# defining inputs and outputs\n",
    "xnor_inputs = np.matrix(\"0 0; 1 0; 0 1; 1 1\")\n",
    "xnor_outputs = np.matrix(\"1; 0; 0; 1\")"
   ]
  },
  {
   "cell_type": "markdown",
   "metadata": {
    "collapsed": false
   },
   "source": [
    "###### Each theta value is represented by the black lines\n",
    "###### The dimension of each theta vector is as follows: <br>\n",
    "\n",
    "###### Let a<sub>i</sub> be the layer of neurons in the ith layer, such that a<sub>0</sub> is the input layer, a<sub>1</sub> is the hidden layer, and a<sub>2</sub> is the output layer\n",
    "###### The dimension of the theta matrix connecting a<sub>i</sub> to a<sub>i+1</sub> is (m x n), where m is the number of neurons in a<sub>i+1</sub>, and n is the number of neurons in a<sub>i</sub> + 1"
   ]
  },
  {
   "cell_type": "code",
   "execution_count": 7,
   "metadata": {
    "collapsed": false
   },
   "outputs": [
   ],
   "source": [
    "# defining theta values with correct dimensions\n",
    "theta_one = np.matrix(np.random.random((2, 3)))\n",
    "theta_two = np.matrix(np.random.random((1, 3)))\n",
    "xnor_thetas = [theta_one, theta_two]"
   ]
  },
  {
   "cell_type": "markdown",
   "metadata": {
    "collapsed": false
   },
   "source": [
    "###### Our learning rate is especially high in this case because we have a very small sample size (only 4 possible combinations)\n",
    "###### We need our cost gradients to converge quickly\n",
    "###### Therefore in this case, our algorithm can give very innacurate results depending on the choice of thetas"
   ]
  },
  {
   "cell_type": "code",
   "execution_count": 8,
   "metadata": {
    "collapsed": false
   },
   "outputs": [
   ],
   "source": [
    "# defining constants\n",
    "sample_size = xnor_outputs.size\n",
    "num_classifications = 2\n",
    "learning_rate = 5\n",
    "num_iterations = 10000"
   ]
  },
  {
   "cell_type": "code",
   "execution_count": 9,
   "metadata": {
    "collapsed": false
   },
   "outputs": [
   ],
   "source": [
    "# gradient descent\n",
    "for iteration in range(num_iterations):\n",
    "    outputs = forward_prop(xnor_inputs, xnor_thetas, sample_size)\n",
    "    gradients = back_prop(outputs, xnor_outputs, xnor_inputs, xnor_thetas, sample_size, num_classifications)\n",
    "    xnor_thetas[0] = xnor_thetas[0] - learning_rate * gradients[0]\n",
    "    xnor_thetas[1] = xnor_thetas[1] - learning_rate * gradients[1]"
   ]
  },
  {
   "cell_type": "code",
   "execution_count": 10,
   "metadata": {
    "collapsed": false
   },
   "outputs": [
    {
     "name": "stdout",
     "output_type": "stream",
     "text": [
      "Inputs:\n",
      "[[0 0]\n",
      " [1 0]\n",
      " [0 1]\n",
      " [1 1]]\n",
      "\n",
      "Outputs (rounded):\n",
      "[[1.]\n",
      " [0.]\n",
      " [0.]\n",
      " [1.]]\n"
     ]
    }
   ],
   "source": [
    "print(\"Inputs:\")\n",
    "print(str(xnor_inputs))\n",
    "print()\n",
    "print(\"Outputs (rounded):\")\n",
    "print(str(np.round(sigmoid(outputs[-1]), 3)))"
   ]
  },
  {
   "cell_type": "markdown",
   "metadata": {
    "collapsed": false
   },
   "source": [
    "<h4>\n",
    "    <u>Utilizing Neural Networks in MNIST Data Set (recognizing handwritten digits)</u>\n",
    "</h4>"
   ]
  },
  {
   "cell_type": "markdown",
   "metadata": {
    "collapsed": false
   },
   "source": [
    "<h3 align=\"center\">\n",
    "    <u>Neural Net Architecture for MNIST</u>\n",
    "</h3>\n",
    "<br>\n",
    "<img src=\"mnist_nn.png\">"
   ]
  },
  {
   "cell_type": "markdown",
   "metadata": {
    "collapsed": false
   },
   "source": [
    "###### We will be importing the mnist data from keras, which is forunately almost properly formatted"
   ]
  },
  {
   "cell_type": "code",
   "execution_count": 11,
   "metadata": {
    "collapsed": false
   },
   "outputs": [
    {
     "name": "stderr",
     "output_type": "stream",
     "text": [
      "Using TensorFlow backend.\n"
     ]
    }
   ],
   "source": [
    "# importing the appropriate libraries\n",
    "import keras\n",
    "from keras.datasets import mnist"
   ]
  },
  {
   "cell_type": "code",
   "execution_count": 12,
   "metadata": {
    "collapsed": false
   },
   "outputs": [
   ],
   "source": [
    "# importing the data set\n",
    "(mnist_x_train, mnist_y_train), (mnist_x_test, mnist_y_test) = mnist.load_data()"
   ]
  },
  {
   "cell_type": "markdown",
   "metadata": {
    "collapsed": false
   },
   "source": [
    "###### Our constants are similar to before\n",
    "###### However, this a very CPU-intensive algorithm, so we were unable to experiment with a wide range of learning rates"
   ]
  },
  {
   "cell_type": "code",
   "execution_count": 13,
   "metadata": {
    "collapsed": false
   },
   "outputs": [
   ],
   "source": [
    "# defining our constants\n",
    "num_classifications = 10\n",
    "m = 2500\n",
    "learning_rate = 2.5\n",
    "num_iterations = 100"
   ]
  },
  {
   "cell_type": "markdown",
   "metadata": {
    "collapsed": false
   },
   "source": [
    "###### Due to memory limitations, we were restricted to use 2500 out of the 60,000 provided test images\n",
    "###### Therefore the data was taken from the first 2500 images (we checked that there was an approximately equal count of numbers) <br>\n",
    "###### The data was also reshaped so all the pixels for the images could be represented by a single vector\n",
    "###### Finally, each pixel was divided by 255 (the max pixel value), to normalize the data to floats between 0 and 1"
   ]
  },
  {
   "cell_type": "code",
   "execution_count": 14,
   "metadata": {
    "collapsed": false
   },
   "outputs": [
   ],
   "source": [
    "# reshaping and normalizing the inputs to fit our needs\n",
    "mnist_train_inputs = (mnist_x_train[0:m][:][:].reshape(m, 28*28)) / 255\n",
    "mnist_train_outputs = mnist_y_train[0:m]\n",
    "\n",
    "mnist_test_inputs = (mnist_x_test[:][:][:].reshape(mnist_x_test.shape[0], 28*28)) / 255\n",
    "mnist_test_outputs = mnist_y_test"
   ]
  },
  {
   "cell_type": "markdown",
   "metadata": {
    "collapsed": false
   },
   "source": [
    "###### We defined our thetas using the same convention as above\n",
    "###### We have 28 * 28 inputs (for each pixel), 25 nodes in the hidden layer, and 10 outputs (0 - 9)\n",
    "\n",
    "###### Our thetas now also range between (-0.5 and 0.5), for proper instantiation"
   ]
  },
  {
   "cell_type": "code",
   "execution_count": 15,
   "metadata": {
    "collapsed": false,
    "scrolled": true
   },
   "outputs": [
   ],
   "source": [
    "# defining theta values with correct dimensions\n",
    "theta_one = np.matrix(np.random.random((25, 785))) - 0.5\n",
    "theta_two = np.matrix(np.random.random((10, 26))) - 0.5\n",
    "mnist_thetas = [theta_one, theta_two]"
   ]
  },
  {
   "cell_type": "markdown",
   "metadata": {
    "collapsed": false
   },
   "source": [
    "###### We then use the same gradient descent algorithm as in xnor, but swapping variables"
   ]
  },
  {
   "cell_type": "code",
   "execution_count": 16,
   "metadata": {
    "collapsed": false,
    "scrolled": true
   },
   "outputs": [
   ],
   "source": [
    "# gradient descent (run this cell multiple times for improved accuracy)\n",
    "for iteration in range(num_iterations):\n",
    "    outputs = forward_prop(mnist_train_inputs, mnist_thetas, m)\n",
    "    gradients = back_prop(outputs, mnist_train_outputs, mnist_train_inputs, mnist_thetas, m, num_classifications)\n",
    "    mnist_thetas[0] = mnist_thetas[0] - learning_rate * gradients[0]\n",
    "    mnist_thetas[1] = mnist_thetas[1] - learning_rate * gradients[1]"
   ]
  },
  {
   "cell_type": "markdown",
   "metadata": {
    "collapsed": false
   },
   "source": [
    "###### We can now see how many of the training images were classified correctly with our forward propogation algorithm\n",
    "###### If we were able to adjust the learning rate and number of iterations, this number would be higher"
   ]
  },
  {
   "cell_type": "code",
   "execution_count": 17,
   "metadata": {
    "collapsed": false
   },
   "outputs": [
    {
     "name": "stdout",
     "output_type": "stream",
     "text": [
      "2298 out of 2500 images were identified correctly in training\n",
      "This is about 91.92%\n"
     ]
    }
   ],
   "source": [
    "# forward propogates to get our predicted values\n",
    "predicted_train_outputs = np.argmax(sigmoid(outputs[-1]), axis = 1)\n",
    "num_correct_labels = np.sum(np.diagonal(predicted_train_outputs == mnist_train_outputs))\n",
    "\n",
    "print(str(num_correct_labels) + \" out of \" + str(predicted_train_outputs.size) + \" images were identified correctly in training\")\n",
    "print(\"This is about \" + str(round(100 * (num_correct_labels / predicted_train_outputs.size), 5)) + \"%\")"
   ]
  },
  {
   "cell_type": "markdown",
   "metadata": {
    "collapsed": false
   },
   "source": [
    "###### We then do the same thing for the test training data\n",
    "###### Since the forward propogation algorithm is not very expensive, we are able to use all of the testing images"
   ]
  },
  {
   "cell_type": "code",
   "execution_count": 18,
   "metadata": {
    "collapsed": false
   },
   "outputs": [
    {
     "name": "stdout",
     "output_type": "stream",
     "text": [
      "8681 out of 10000 images were identified correctly in testing\n",
      "This is about 86.81%\n"
     ]
    }
   ],
   "source": [
    "test_predictions = sigmoid((forward_prop(mnist_test_inputs, mnist_thetas, mnist_x_test.shape[0]))[-1])\n",
    "predicted_test_output_labels = np.argmax(test_predictions, axis = 1)\n",
    "num_correct_test_labels = np.sum(np.diagonal(predicted_test_output_labels == mnist_test_outputs))\n",
    "\n",
    "print(str(num_correct_test_labels) + \" out of \" + str(predicted_test_output_labels.size) + \" images were identified correctly in testing\")\n",
    "print(\"This is about \" + str(round(100 * (num_correct_test_labels / predicted_test_output_labels.size),4)) + \"%\")"
   ]
  },
  {
   "cell_type": "markdown",
   "metadata": {
    "collapsed": false
   },
   "source": [
    "###### We can also print the sigmoid outputs for a random image in the test outputs (run over and over to see prediction)"
   ]
  },
  {
   "cell_type": "code",
   "execution_count": 19,
   "metadata": {
    "collapsed": false
   },
   "outputs": [
   ],
   "source": [
    "# imports the appropriate library\n",
    "import PIL\n",
    "from PIL import Image"
   ]
  },
  {
   "cell_type": "code",
   "execution_count": 29,
   "metadata": {
    "collapsed": false,
    "scrolled": true
   },
   "outputs": [
    {
     "data": {
      "image/png": "[encoded data removed]",
      "text/plain": [
       "<PIL.Image.Image image mode=L size=256x256 at 0x7F91265CD128>"
      ]
     },
     "execution_count": 29,
     "metadata": {
     },
     "output_type": "execute_result"
    },
    {
     "name": "stdout",
     "output_type": "stream",
     "text": [
      "The prediction values are: [0.001 0.009 0.021 0.73  0.001 0.022 0.    0.025 0.149 0.002]\n",
      "The computer predicts this number is: 3\n"
     ]
    }
   ],
   "source": [
    "# help from: https://stackoverflow.com/questions/38867869/how-to-create-image-from-numpy-float32-array\n",
    "# gets the random index from the list of test outputs\n",
    "random_index = round(mnist_test_outputs.size * np.random.random())\n",
    "\n",
    "# displays and formats the image correctly\n",
    "data = mnist_test_inputs[random_index].reshape(28, 28)\n",
    "formatted = (data * 255 / np.max(data)).astype('uint8')\n",
    "img = Image.fromarray(formatted)\n",
    "display(img.resize((256,256), PIL.Image.LANCZOS))\n",
    "\n",
    "# gets the predction values and label for that image\n",
    "prediction_arr = np.round(sigmoid(forward_prop(np.matrix(mnist_test_inputs[random_index]), mnist_thetas, 1)[-1]), 3)\n",
    "prediction_label = np.argmax(prediction_arr)\n",
    "\n",
    "print(\"The prediction values are: \" + str(prediction_arr[0]))\n",
    "print(\"The computer predicts this number is: \" + str(prediction_label))"
   ]
  },
  {
   "cell_type": "markdown",
   "metadata": {
    "collapsed": false
   },
   "source": [
    "<u></u>"
   ]
  }
 ],
 "metadata": {
  "kernelspec": {
   "display_name": "Python 3 (system-wide)",
   "language": "python",
   "metadata": {
    "cocalc": {
     "description": "Python 3 programming language",
     "priority": 100,
     "url": "https://www.python.org/"
    }
   },
   "name": "python3"
  },
  "language_info": {
   "codemirror_mode": {
    "name": "ipython",
    "version": 3
   },
   "file_extension": ".py",
   "mimetype": "text/x-python",
   "name": "python",
   "nbconvert_exporter": "python",
   "pygments_lexer": "ipython3",
   "version": "3.6.9"
  }
 },
 "nbformat": 4,
 "nbformat_minor": 4
}